{
  "nbformat": 4,
  "nbformat_minor": 0,
  "metadata": {
    "colab": {
      "name": "pythonnotes.ipynb",
      "provenance": [],
      "collapsed_sections": []
    },
    "kernelspec": {
      "name": "python3",
      "display_name": "Python 3"
    },
    "language_info": {
      "name": "python"
    }
  },
  "cells": [
    {
      "cell_type": "markdown",
      "metadata": {
        "id": "xKXFVqmhpZeK"
      },
      "source": [
        "\n",
        "# **Data Types and Operators**\n",
        "\n",
        "*   Data Types: Integers, Floats, Booleans, Strings, Lists, Tuples, Sets, Dictionaries\n",
        "*   Operators: Arithmetic, Assignment, Comparison, Logical, Membership, Identity\n",
        "\n",
        "*   Built-In Functions, Compound Data Structures, Type Conversion\n",
        "*   Whitespace and Style Guidelines\n",
        "\n",
        "\n",
        "\n"
      ]
    },
    {
      "cell_type": "markdown",
      "metadata": {
        "id": "IVsvnO2wq96X"
      },
      "source": [
        "# **Print() Function in Python**\n",
        "You will be seeing this print function very frequently in python programming. It helps us to see what exactly is happening in our code.\n",
        "\n",
        "Try to run the next lines of code and see what happens next:"
      ]
    },
    {
      "cell_type": "code",
      "metadata": {
        "id": "CKl_b0harfl0",
        "colab": {
          "base_uri": "https://localhost:8080/"
        },
        "outputId": "7d4f0fdc-c9db-4787-de98-7ba51b9dc17b"
      },
      "source": [
        "2+7\n",
        "2*7"
      ],
      "execution_count": null,
      "outputs": [
        {
          "output_type": "execute_result",
          "data": {
            "text/plain": [
              "14"
            ]
          },
          "metadata": {
            "tags": []
          },
          "execution_count": 2
        }
      ]
    },
    {
      "cell_type": "markdown",
      "metadata": {
        "id": "X6uavck3rkcl"
      },
      "source": [
        "\n",
        "\n",
        "*   You will see that even though you had written 2 lines of code only the last line of code gets seen in the output area.\n",
        "\n",
        "Now this happens because you haven't told python what to alctually do with it.\n",
        "\n",
        "This is where print() comes in. print() in python is a useful builtin function that we can use to display input value as text in the output.\n",
        "\n",
        "\n",
        "\n"
      ]
    },
    {
      "cell_type": "code",
      "metadata": {
        "id": "tNeVXWRlsIDZ"
      },
      "source": [
        "print(2+7)\n",
        "print(2*7)"
      ],
      "execution_count": null,
      "outputs": []
    },
    {
      "cell_type": "code",
      "metadata": {
        "id": "vRNfzeHSsSAn"
      },
      "source": [
        "print('Hello world!!!')"
      ],
      "execution_count": null,
      "outputs": []
    },
    {
      "cell_type": "markdown",
      "metadata": {
        "id": "08raci8osYlt"
      },
      "source": [
        "#  **Arithematic Operators**\n",
        "An arithmetic operator is a mathematical function that takes 2 operands and performs a calculation on them. Lets take the previous example, we multiplied 2 and 7 here 2 and 7 are the operands and this asterisks is the arithmetic operator for multiplication. Python has several arithmetic operators most of which follow the usual rules of mathematics. Lets look at them now.\n",
        "\n",
        "+ Addition\n",
        "- Subtraction\n",
        "* Multiplication\n",
        "/ Division\n",
        "% Mod (the remainder after dividing)\n",
        "* Exponentiation (note that ^ does not do this operation, as you might have seen in other languages)\n",
        "// Divides and rounds down to the nearest integer\n"
      ]
    },
    {
      "cell_type": "markdown",
      "metadata": {
        "id": "QLhBRvYjtQOG"
      },
      "source": [
        "# **Variables**\n",
        "Understanding variables is very important in any programming language they are used all the time in python. Using variables in place of direct numbers have many advantages. Variables are used to store information to be referenced and manipulated in a computer program.\n",
        "\n",
        "Creating a new variable in python is very simple, lets create one , here in this example below the variable name is month, the equal sign is the assignment operator and the value of the variable is 12."
      ]
    },
    {
      "cell_type": "code",
      "metadata": {
        "id": "xhtjMNcXt2Io"
      },
      "source": [
        "month = 12\n",
        "print(month)"
      ],
      "execution_count": null,
      "outputs": []
    },
    {
      "cell_type": "markdown",
      "metadata": {
        "id": "YmxDyXtguEoZ"
      },
      "source": [
        "# **Multiple Assigment Operator**\n",
        "Suppose you are making a program where in you enter the dimensions of the tank and it will give the volume of the tank as the output. So you can write code as:"
      ]
    },
    {
      "cell_type": "code",
      "metadata": {
        "id": "OdvkMKnmucxr",
        "colab": {
          "base_uri": "https://localhost:8080/"
        },
        "outputId": "d5a8b091-5034-4912-f1b2-80638a19b23d"
      },
      "source": [
        "height = 3\n",
        "lenght = 6\n",
        "width = 2\n",
        "volume = height*lenght*width\n",
        "print(volume)"
      ],
      "execution_count": null,
      "outputs": [
        {
          "output_type": "stream",
          "text": [
            "36\n"
          ],
          "name": "stdout"
        }
      ]
    },
    {
      "cell_type": "markdown",
      "metadata": {
        "id": "cUW5Jnnouujh"
      },
      "source": [
        "Now python has a very useful way to assign multiple variables together in a single line using multiple assignment like this:"
      ]
    },
    {
      "cell_type": "code",
      "metadata": {
        "id": "X4MqdLP-u0BC"
      },
      "source": [
        "# this will now assign 3 to height, 6 to length and 2 to width just as before.\n",
        "height , length , width = 3 , 6 , 2\n",
        "volume = height * length * width\n",
        "print(volume)\n"
      ],
      "execution_count": null,
      "outputs": []
    },
    {
      "cell_type": "markdown",
      "metadata": {
        "id": "B-QxDD37vFh9"
      },
      "source": [
        "#  **Variable Naming Conventions:**\n",
        "There are some rules we need to follow while giving a name for a Python variable.\n",
        "\n",
        "* Rule-1: You should start variable name with an alphabet or underscore(_) character.\n",
        "* Rule-2: A variable name can only contain A-Z,a-z,0-9 and underscore(_).\n",
        "* Rule-3: You cannot start the variable name with a number.\n",
        "* Rule-4: You cannot use special characters with the variable name such as such as $,%,#,&,@.-,^ etc.\n",
        "* Rule-5: Variable names are case sensitive. For example str and Str are two different variables.\n",
        "* Rule-6: Do not use reserve keyword as a variable name for example keywords like class, for, def, del, is, else, try, from, etc. more examples are given below and as we go through the course we will come across many more. Creating names that are descriptive of the values often will help you avoid using any of these words."
      ]
    },
    {
      "cell_type": "code",
      "metadata": {
        "id": "lxsNXAPSS_zT"
      },
      "source": [
        "#Allowed variable names\n",
        "\n",
        "x=2\n",
        "y=\"Hello\"\n",
        "mypython=\"PythonGuides\"\n",
        "my_python=\"PythonGuides\"\n",
        "_my_python=\"PythonGuides\"\n",
        "_mypython=\"PythonGuides\"\n",
        "MYPYTHON=\"PythonGuides\"\n",
        "myPython=\"PythonGuides\"\n",
        "myPython7=\"PythonGuides\"\n"
      ],
      "execution_count": null,
      "outputs": []
    },
    {
      "cell_type": "code",
      "metadata": {
        "id": "cWf3VYTJTBJs"
      },
      "source": [
        "#Variable name not Allowed\n",
        "\n",
        "7mypython=\"PythonGuides\"\n",
        "-mypython=\"PythonGuides\"\n",
        "myPy@thon=\"PythonGuides\"\n",
        "my Python=\"PythonGuides\"\n",
        "for=\"PythonGuides\"\n",
        "\n",
        "#It shows invalid syntax. \n",
        "#It will execute one by one and will show the error.\n"
      ],
      "execution_count": null,
      "outputs": []
    },
    {
      "cell_type": "markdown",
      "metadata": {
        "id": "fLQClkAvTI37"
      },
      "source": [
        "Also there are some naming convention that needs to be followed like:\n",
        "\n",
        "* Try to keep the name of the variables descriptive short but descriptive. for example: when taking inputs for the height of a tree of a box the appropriate variable name will be just height not x not h not height_of_the_tree.\n",
        "\n",
        "* Also the pythonic way to name variables is to use all lowercase letters and underscores to separate words."
      ]
    },
    {
      "cell_type": "code",
      "metadata": {
        "id": "LZwUHTEmTtWX"
      },
      "source": [
        "# pythonic way\n",
        "\n",
        "my_height = 58\n",
        "my_lat = 40\n",
        "my_long = 105"
      ],
      "execution_count": null,
      "outputs": []
    },
    {
      "cell_type": "code",
      "metadata": {
        "id": "tuSSmKldT0e5"
      },
      "source": [
        "# not pythonic way\n",
        "my height = 58 # wont work\n",
        "MYLONG = 40    # will work still avoid using it\n",
        "MyLat = 105    # will work still avoid using it"
      ],
      "execution_count": null,
      "outputs": []
    },
    {
      "cell_type": "markdown",
      "metadata": {
        "id": "SOLZ_iaAUJgt"
      },
      "source": [
        "Though the last two of these would work in python, they are not pythonic ways to name variables. The way we name variables is called **snake case**, because we tend to connect the words with underscores.\n",
        "\n",
        "What if we want to change or update the value of a variable for example take the example of rent = 1700, suppose the rent has hiked and the new rent is 2000 we can just assign the variable its new value as:"
      ]
    },
    {
      "cell_type": "code",
      "metadata": {
        "id": "4uBgOkL0UKs2"
      },
      "source": [
        "rent = 1700\n",
        "rent = 2000\n",
        "print(rent)"
      ],
      "execution_count": null,
      "outputs": []
    },
    {
      "cell_type": "markdown",
      "metadata": {
        "id": "jlFNDQFLUUSt"
      },
      "source": [
        "This is called overwriting the variable , i.e, When a new value is assigned to a variable, the old one is forgotten.\n",
        "\n",
        "If we had then caused some damages to the property during our crazy house party and we have to pay for them then we can just apply these changes directly to this variable."
      ]
    },
    {
      "cell_type": "code",
      "metadata": {
        "id": "YpU6AcNAUY6a"
      },
      "source": [
        "rent = 1700\n",
        "rent = 2000\n",
        "rent =rent + 700\n",
        "print(rent)\n"
      ],
      "execution_count": null,
      "outputs": []
    },
    {
      "cell_type": "markdown",
      "metadata": {
        "id": "iyZ-TCnaUfE9"
      },
      "source": [
        "* In the line 3 the variable rent is being assigned to itself plus 700 which results to 2700.\n",
        "\n",
        "Because such increment and assignment operations are very common python has a very special assignment operator for this."
      ]
    },
    {
      "cell_type": "code",
      "metadata": {
        "id": "px22A-g7Up_c"
      },
      "source": [
        "rent = 1700\n",
        "rent = 2000\n",
        "rent += 700\n",
        "print(rent)\n"
      ],
      "execution_count": null,
      "outputs": []
    },
    {
      "cell_type": "markdown",
      "metadata": {
        "id": "DRYSU4E4Usut"
      },
      "source": [
        "we can actually use this += operator to tell python that we are incrementing the value on the left by the value on the right. += is a example of assignment operator -= *= /= are some more examples of assignment operators. All of these operators just apply arithmetic operation to the variable on the left with the value on the right which makes your code more concise and easier to read and understand."
      ]
    },
    {
      "cell_type": "markdown",
      "metadata": {
        "id": "Lqhw2zGmU4ET"
      },
      "source": [
        "# **Integer and Floats**\n",
        "So far the numbers that we have dealt with were mostly whole numbers or integers, but as you may have notices that other types of numbers also do exist. For example dividing one integer by another gives us a number that isn't an integer, in python we represent such a number as a float, which is short for floating point number.\n"
      ]
    },
    {
      "cell_type": "code",
      "metadata": {
        "id": "-EsPkakVVA0z"
      },
      "source": [
        "print(3/2)"
      ],
      "execution_count": null,
      "outputs": []
    },
    {
      "cell_type": "markdown",
      "metadata": {
        "id": "8OTYfMoEVDLa"
      },
      "source": [
        "Numbers with a decimal point, such as 3.14, are called floating-point numbers (or floats). Note that even though the value 42 is an integer, the value 42.0 would be a floating-point number. And if 2 integers are divided then also we get float as an answer.\n",
        "\n",
        "You can check the datatype of any value by using the builtin function of type, that returns the type of an object. Here as you can see they type of a number without a decimal and the type of a number with a decimal.\n"
      ]
    },
    {
      "cell_type": "code",
      "metadata": {
        "id": "AxvCDYB8VNDy"
      },
      "source": [
        "a = 3\n",
        "b = 2.5\n",
        "\n",
        "print(type(a))\n",
        "print(type(b))\n"
      ],
      "execution_count": null,
      "outputs": []
    },
    {
      "cell_type": "markdown",
      "metadata": {
        "id": "HTwbfxnvVQvm"
      },
      "source": [
        "* An operation involving an int and a float will always give float as its output. We can also covert one datatype to another by constructing new objects of those types with int and float.\n",
        "\n",
        "* When we convert a float to an int the part after the decimal point is dropped and hence there is no rounding. eg 28.9 will be cut to 28.\n",
        "\n",
        "* Similarly converting int to float just adds a decimal at the end of the number and a 0 after that. example 3 will become 3.0\n",
        "\n",
        "\n",
        "\n",
        "Another point that you need to keep in mind is float are an approximation to the number they represent. As float can represent very large range of numbers python must use approximation to represent these numbers. For example this floating point number 0.23 is in reality slightly more than 0.23. such that if we add up 0.23 to itself a few times and check its equality to the expected resultant it will be different. Although the difference is very small but it exists never the less and you should know about it."
      ]
    },
    {
      "cell_type": "code",
      "metadata": {
        "id": "i2IPQQNXVjS3"
      },
      "source": [
        "print(0.23 + 0.23 + 0.23 + 0.23 + 0.23 + 0.23\n",
        "       + 0.23 + 0.23 + 0.23 + 0.23 + 0.23 + 0.23\n",
        "       + 0.23 + 0.23 + 0.23 + 0.23 + 0.23 + 0.23\n",
        "       + 0.23 + 0.23 + 0.23 + 0.23 + 0.23 + 0.23\n",
        "       + 0.23 + 0.23 + 0.23 + 0.23+ 0.23 + 0.23 == 6.9)\n"
      ],
      "execution_count": null,
      "outputs": []
    },
    {
      "cell_type": "markdown",
      "metadata": {
        "id": "6N58_FiSVuAk"
      },
      "source": [
        "# **Division by Zero and Errors:**\n",
        "What happens if you divide by zero in Python? Try it out! Test run this code and see what happens.\n"
      ]
    },
    {
      "cell_type": "code",
      "metadata": {
        "id": "YK9joyUsV3FG"
      },
      "source": [
        "print(4/0)"
      ],
      "execution_count": null,
      "outputs": []
    },
    {
      "cell_type": "markdown",
      "metadata": {
        "id": "Pza3veD4V_Rb"
      },
      "source": [
        "what you should have seen when you submitted the Divide by Zero code above, Traceback means\n",
        "\n",
        "#\"What was the programming doing when it broke\"!\n",
        "\n",
        "This part is usually less helpful than the very last line of your error. Though you can dig through the rest of the error, looking at just the final line ZeroDivisionError, and the message says we divided by zero. Python is enforcing the rules of arithmetic!\n",
        "\n",
        "In general, there are two types of errors to look out for\n",
        "\n",
        "Exceptions\n",
        "Syntax\n",
        "An Exception is a problem that occurs when the code is running, but a 'Syntax Error' is a problem detected when Python checks the code before it runs it. For more information, see the Python tutorial page on Errors and Exceptions.\n"
      ]
    },
    {
      "cell_type": "markdown",
      "metadata": {
        "id": "JUX87-7cWBDt"
      },
      "source": [
        "# **Boolean Datatype, Comparison and Logical Operators:**\n",
        "Bool is another datatype that is commonly used in Python. Bool is short for Boolean which can have a value of either True or False. Boolean algebra is the branch of algebra in which the values of the variables are the truth values true or false. Boolean algebra us the framework on which all electronic devices and built and exists fundamentally in every line of code inside a computer. In python we can easily assign boolean values like this:\n"
      ]
    },
    {
      "cell_type": "code",
      "metadata": {
        "id": "pxjjRFBaWUV-"
      },
      "source": [
        "python_awsome = True\n",
        "doumentation_bad = False\n"
      ],
      "execution_count": null,
      "outputs": []
    },
    {
      "cell_type": "markdown",
      "metadata": {
        "id": "ygvxOlHlWVRd"
      },
      "source": [
        "We can use comparison operators to compare 2 values and produce boolean results like:\n"
      ]
    },
    {
      "cell_type": "code",
      "metadata": {
        "id": "OVbaCwQnWYLx"
      },
      "source": [
        "a = 3 > 1\n",
        "print(a)\n"
      ],
      "execution_count": null,
      "outputs": []
    },
    {
      "cell_type": "markdown",
      "metadata": {
        "id": "EOYR6_SeWbJD"
      },
      "source": [
        "Here 3 is greater than 1 so printing out the output gives us a boolean value to true. There are many comparison operators in python, as you can see here are all of them.\n",
        "\n",
        "As you will see the function of all these comparison operators are evident from their names itself these are less than, greater than , less than or equal to, greater than or equal to, not equal to.\n",
        "\n",
        "Working with boolean has its own set of operators called as logical operators. These operators very useful when working with boolean, and evaluates if both the sides are true, OR evaluates if atleast one side is true and not evaluates the inverse of the input boolean.\n",
        "\n",
        "Lets understand if via an example:\n"
      ]
    },
    {
      "cell_type": "code",
      "metadata": {
        "id": "-YpA-YEWWg7V"
      },
      "source": [
        "rent = 1200\n",
        "is_affordable = rent > 1000 and rent < 2000\n",
        "\n",
        "print(is_affordable)"
      ],
      "execution_count": null,
      "outputs": []
    },
    {
      "cell_type": "markdown",
      "metadata": {
        "id": "r8B5HwW7WkRI"
      },
      "source": [
        "Here we check if the rent of a house is affordable or not, here in the second line we evaluate both the sides ie rent > 1000, yes, so it is true while the second condition is rent < 200, that too is true. as both the condition on the left and right side of and is true hence the boolean value of true will be assigned to the is_affordable variable. In other words if the rent is greater than 1000 and less than 2000 then only it is affordable.\n",
        "\n",
        "And here you can see how not works:\n"
      ]
    },
    {
      "cell_type": "code",
      "metadata": {
        "id": "f9DeB1kFWoaX"
      },
      "source": [
        "rent = 1200\n",
        "is_affordable = not(rent > 1000 and rent < 2000) #\"not\" just inverts bool value\n",
        "\n",
        "print(is_affordable)"
      ],
      "execution_count": null,
      "outputs": []
    },
    {
      "cell_type": "markdown",
      "metadata": {
        "id": "Vuoa4u2hXQ5e"
      },
      "source": [
        "# **Strings:**\n",
        "Python has another datatype in its toolkit called as Strings, as the name suggest this datatype deals with characters words and text. String is a immutable order of sequences of characters \n",
        "You can create a string by using quotes as seen here, you can use either single / double quotes they both work equally well but there are some cases where you might prefer one over the other which we will be discussing below.\n"
      ]
    },
    {
      "cell_type": "code",
      "metadata": {
        "id": "0xGxJCO0XkwM"
      },
      "source": [
        "# using Double Quotes\n",
        "print(\"Gowtham\")\n",
        "# using Single Quotes\n",
        "print('Gowtham')"
      ],
      "execution_count": null,
      "outputs": []
    },
    {
      "cell_type": "markdown",
      "metadata": {
        "id": "1W6hhZKeXpcx"
      },
      "source": [
        "In this example we printed the word Gowtham using single and double quotes and got the same output Gowtham.\n",
        "\n",
        "We can also assign a string to a variable just like float and int.\n"
      ]
    },
    {
      "cell_type": "code",
      "metadata": {
        "id": "6j5OQBmdXq1F"
      },
      "source": [
        "motto = \"Learn | Code | Compete | Intern\" \n",
        "print(motto)"
      ],
      "execution_count": null,
      "outputs": []
    },
    {
      "cell_type": "markdown",
      "metadata": {
        "id": "cSMXQ5T9YFPK"
      },
      "source": [
        "\n",
        "Strings in Python are shown as the variable type str."
      ]
    },
    {
      "cell_type": "code",
      "metadata": {
        "id": "NfWhAs9AXwGc"
      },
      "source": [
        "type(motto)"
      ],
      "execution_count": null,
      "outputs": []
    },
    {
      "cell_type": "markdown",
      "metadata": {
        "id": "1NDC73iWYUis"
      },
      "source": [
        "*String can contain any character number, symbol space within the quotes. However if we want to have quotes inside the string we get an error.*\n",
        "\n"
      ]
    },
    {
      "cell_type": "code",
      "metadata": {
        "id": "ntojSs5LYcPw"
      },
      "source": [
        "dialogue = \"Cindy said, \"you learn as you grow\"\""
      ],
      "execution_count": null,
      "outputs": []
    },
    {
      "cell_type": "markdown",
      "metadata": {
        "id": "ySpiKH4DYljS"
      },
      "source": [
        "# Python provides 2 easy ways to handle such problem:\n",
        "\n",
        "Place the string in single quotes rather than double quotes. This will solve your problem for having double quotes within the string. But sometimes you will want to have both double and single quotes in your string in that case this will prove to be a problem.\n"
      ]
    },
    {
      "cell_type": "code",
      "metadata": {
        "id": "7R_Edp4DYrag"
      },
      "source": [
        "dialogue = 'shiva said, \"you learn as you grow\"'\n",
        "print(dialogue)"
      ],
      "execution_count": null,
      "outputs": []
    },
    {
      "cell_type": "markdown",
      "metadata": {
        "id": "llXUtZpeZb5C"
      },
      "source": [
        "In that case we can use a backslash to skip quotes as you can see in this example. The backslash helps python to know that the the single quote should be interpreted as part of the string rather than the quote that ends the string.\n"
      ]
    },
    {
      "cell_type": "code",
      "metadata": {
        "id": "kzxWQ0NLZdJD"
      },
      "source": [
        "dialogue = '\"shiva you\\'re bag is red\"'\n",
        "print(dialogue)\n"
      ],
      "execution_count": null,
      "outputs": []
    },
    {
      "cell_type": "markdown",
      "metadata": {
        "id": "0i98_3BSZicG"
      },
      "source": [
        "There are a few operators that we use on floats and ints that can also be used on strings. For example we can use the '+' to combine / concatenate 2 strings together and we can use '*' to repeat the string let us look at an example for each.\n"
      ]
    },
    {
      "cell_type": "code",
      "metadata": {
        "id": "GqL8eu-kZjPo"
      },
      "source": [
        "print(\"hello\" + \"world\")\n",
        "\n",
        "print(\"hello\" + \" \" + \"world\")\n"
      ],
      "execution_count": null,
      "outputs": []
    },
    {
      "cell_type": "markdown",
      "metadata": {
        "id": "fr00X-TlZob3"
      },
      "source": [
        "here in this example we can see that using the plus arithmetic operator we get helloworld written together but this word that is printed out has no meaning, we need to have a space between both the words to have a meaning. We can add another string containing just a space in between the words to do so.\n"
      ]
    },
    {
      "cell_type": "code",
      "metadata": {
        "id": "bIiefwjkZpjs"
      },
      "source": [
        "word = \"hello\"\n",
        "print(word * 5)\n"
      ],
      "execution_count": null,
      "outputs": []
    },
    {
      "cell_type": "markdown",
      "metadata": {
        "id": "cBkJyDuJZsh3"
      },
      "source": [
        "Now in the second example we can see that using the multiplication operator on a string we get repetition of the same word as many time as the number we multiplied the string by in the output.\n",
        "\n",
        "However unlike multiplication and addition operators the other arithmetic operators like division and subtraction cannot be used on strings any attempt to do so would result in an error that string is an unsupported datatype for the division/subtraction operator.\n"
      ]
    },
    {
      "cell_type": "code",
      "metadata": {
        "id": "hbbH3Tb-Zv_G"
      },
      "source": [
        "word_1 = \"hello\"\n",
        "word_2 = \"world\"\n",
        "print(word_1 / word_2)\n"
      ],
      "execution_count": null,
      "outputs": []
    },
    {
      "cell_type": "markdown",
      "metadata": {
        "id": "MdRoTKU7Z0_v"
      },
      "source": [
        "A useful builtin function for string datatypes is len() which stands for length. As the name suggests (it returns the length of an object ie., it returns the no of characters in a string.)\n",
        "\n",
        "It takes in values in a parenthesis and returns the length of the string. len() is a little different from print() as the value returned from length can be stored in a variable as seen in the example here. The len() function outputs a value 7 that is then stored in a variable called as word_length which is then printed out.\n"
      ]
    },
    {
      "cell_type": "code",
      "metadata": {
        "id": "IQwSrMGeZ4gh"
      },
      "source": [
        "word_length = len(\"Gowtham Veerapalli\")\n",
        "print(word_length)\n"
      ],
      "execution_count": null,
      "outputs": []
    },
    {
      "cell_type": "markdown",
      "metadata": {
        "id": "lm8-7H9GadPa"
      },
      "source": [
        "# ***Type and Type Conversion Revision:***\n",
        "Till now we have covered 4 different datatypes int, float, bool and string. As you can recall from the previous topics python has a builtin function called as type that returns the type of an object.\n"
      ]
    },
    {
      "cell_type": "code",
      "metadata": {
        "id": "o97xqhVdaj-c"
      },
      "source": [
        "print(type(75))\n",
        "print(type(75.0))\n",
        "print(type(\"75\"))\n",
        "print(type(True))"
      ],
      "execution_count": null,
      "outputs": []
    },
    {
      "cell_type": "markdown",
      "metadata": {
        "id": "6iQOVOXTbIkJ"
      },
      "source": [
        "Look at the code example we can see that even though the first 3 values appear to be same they can be encoded into different datatypes each with their own set of functions operations and uses.\n",
        "\n",
        "This is to note that here we have called the function print on another function type to output the return value of the function type. In such a case always the function inside the parenthesis is run first ie. here it will be type.\n",
        "\n",
        "Different types have different properties with their own set of functions operations and uses and hence while choosing a variable you need to choose the correct set of datatype for it depending upon how you care going to use it this is very important.\n",
        "\n",
        "There might be sometimes when you don't have the control over the type of the data being provided to you like one that has been received from a user as in input. But the good news is that python allows you to create new objects from old and change the datatypes for these new objects. As we had previously seen in the integers and floats video.\n",
        "\n",
        "For example here we created a float ie 3.0 from an int 3 and assigned it to a new variable called decimal\n"
      ]
    },
    {
      "cell_type": "code",
      "metadata": {
        "id": "vHB2zGmmbKRX"
      },
      "source": [
        "decimal = float(3)\n",
        "print(decimal)\n",
        "print(type(decimal))"
      ],
      "execution_count": null,
      "outputs": []
    },
    {
      "cell_type": "markdown",
      "metadata": {
        "id": "zR-iBuwGbUuP"
      },
      "source": [
        "In this next example we created a string from the integer variable marks and used that to create a larger string.\n"
      ]
    },
    {
      "cell_type": "code",
      "metadata": {
        "id": "Ci5PbHRTbXxm"
      },
      "source": [
        "marks = 15\n",
        "subject = \"coding\"\n",
        "semester = \"first\"\n",
        "\n",
        "result = \"I scored \" + str(marks) + \" in \" + subject + \" during my \" + semester + \" semester.\"\n",
        "print(result)"
      ],
      "execution_count": null,
      "outputs": []
    },
    {
      "cell_type": "markdown",
      "metadata": {
        "id": "KT1fNX18bgj7"
      },
      "source": [
        "\n",
        "*we can also create an float from string*"
      ]
    },
    {
      "cell_type": "code",
      "metadata": {
        "id": "59yJZWBVbmqq"
      },
      "source": [
        "marks = \"15\"\n",
        "print(type(marks))\n",
        "\n",
        "marks = float(marks)\n",
        "print(type(marks))"
      ],
      "execution_count": null,
      "outputs": []
    },
    {
      "cell_type": "markdown",
      "metadata": {
        "id": "n3KRvipBe4VH"
      },
      "source": [
        "\n",
        "# ***String Methods:***\n",
        "Methods are like some of the functions you have already seen:"
      ]
    },
    {
      "cell_type": "code",
      "metadata": {
        "id": "atTTXjeZe0xr"
      },
      "source": [
        "a = len(\"this\")\n",
        "b = type(12)\n",
        "print(a,b)\n",
        "print(\"Hello world\")"
      ],
      "execution_count": null,
      "outputs": []
    },
    {
      "cell_type": "markdown",
      "metadata": {
        "id": "gYozbuFoerFP"
      },
      "source": [
        "* These three above are functions - notice they use parentheses, and accept one or more arguments.\n",
        "\n",
        "* A method in Python behaves similarly to a function. Methods actually are functions that are called using dot notation. For example, lower() is a string method that can be used like this, on a string called \"sample string\": sample_string.lower().\n",
        "\n",
        "* Methods are specific to the data type for a particular variable. So there are some built-in methods that are available for all strings, different methods that are available for all integers, etc.\n"
      ]
    },
    {
      "cell_type": "markdown",
      "metadata": {
        "id": "ooB-FFKhboPy"
      },
      "source": [
        "* capitalize() :\tConverts the first character to upper case\n",
        "* casefold() : Converts string into lower case\n",
        "* center() :\tReturns a centered string\n",
        "* count() :\tReturns the number of times a specified value occurs in a string\n",
        "* encode(): \tReturns an encoded version of the string\n",
        "* endswith() : Returns true if the string ends with the specified value\n",
        "* expandtabs() :\tSets the tab size of the string\n",
        "* find() :\tSearches the string for a specified value and returns the position of where it was found\n",
        "* format() :\tFormats specified values in a string\n",
        "* format_map() : Formats specified values in a string\n",
        "* index() :\tSearches the string for a specified value and returns the position of where it was found\n",
        "* isalnum() :\tReturns True if all characters in the string are alphanumeric\n",
        "* isalpha()\t: Returns True if all characters in the string are in the alphabet\n",
        "* isdecimal()\t: Returns True if all characters in the string are decimals\n",
        "* isdigit()\t: Returns True if all characters in the string are digits\n",
        "* isidentifier()\t: Returns True if the string is an identifier\n",
        "* islower()\t: Returns True if all characters in the string are lower case\n",
        "* isnumeric()\t: Returns True if all characters in the string are numeric\n",
        "* isprintable()\t: Returns True if all characters in the string are printable\n",
        "* isspace()\t: Returns True if all characters in the string are whitespaces\n",
        "* istitle()\t: Returns True if the string follows the rules of a title\n",
        "* isupper()\t: Returns True if all characters in the string are upper case\n",
        "* join()\t: Joins the elements of an iterable to the end of the string\n",
        "* ljust() :\tReturns a left justified version of the string\n",
        "* lower()\t: Converts a string into lower case\n",
        "* lstrip()\t: Returns a left trim version of the string\n",
        "* maketrans()\t: Returns a translation table to be used in translations\n",
        "* partition()\t: Returns a tuple where the string is parted into three parts\n",
        "* replace()\t: Returns a string where a specified value is replaced with a specified value\n",
        "* rfind() :\tSearches the string for a specified value and returns the last position of where it was found\n",
        "* rindex() :\tSearches the string for a specified value and returns the last position of where it was found\n",
        "* rjust() :\tReturns a right justified version of the string\n",
        "* rpartition()\t: Returns a tuple where the string is parted into three parts\n",
        "* rsplit()\t: Splits the string at the specified separator, and returns a list\n",
        "* rstrip()\t: Returns a right trim version of the string\n",
        "* split()\t: Splits the string at the specified separator, and returns a list\n",
        "* splitlines() :\tSplits the string at line breaks and returns a list\n",
        "* startswith()\t: Returns true if the string starts with the specified value\n",
        "* strip()\t: Returns a trimmed version of the string\n",
        "* swapcase() :\tSwaps cases, lower case becomes upper case and vice versa\n",
        "* title()\t: Converts the first character of each word to upper case\n",
        "* translate() :\tReturns a translated string\n",
        "* upper()\t: Converts a string into upper case\n",
        "* zfill() :\tFills the string with a specified number of 0 values at the beginning\n",
        " <br>\n",
        " *Note: All string methods returns new values. They do not change the original string.*\n",
        "\n",
        " Each of these methods accepts the string itself as the first argument of the method. However, they also could receive additional arguments, that are passed inside the parentheses. Let's look at the output for a few examples.\n",
        "\n",
        "\n",
        "\n"
      ]
    },
    {
      "cell_type": "code",
      "metadata": {
        "id": "L2r0JFgPfynu"
      },
      "source": [
        "my_string = \"Gowtham\"\n",
        "print(my_string.islower())\n",
        "\n",
        "print(my_string.count('a'))\n",
        "\n",
        "print(my_string.find('a'))"
      ],
      "execution_count": null,
      "outputs": []
    },
    {
      "cell_type": "markdown",
      "metadata": {
        "id": "8EuW390zgKrA"
      },
      "source": [
        "You can see that the count and find methods both take another argument. However, the .islower() method does not accept another argument.\n",
        "\n",
        "No professional has all the methods memorized, which is why understanding how to use documentation and find answers is so important. Gaining a strong grasp of the foundations of programming will allow you to use those foundations to use documentation to build so much more than someone who tries to memorize all the built-in methods in Python.\n",
        "\n"
      ]
    },
    {
      "cell_type": "markdown",
      "metadata": {
        "id": "ZLZl3SWlhPPm"
      },
      "source": [
        "### **One important string method: format()**\n",
        "\n",
        "We will be using the *format()* string method a good bit in our future work in Python, and you will find it very valuable in your coding, especially with your print statements.\n",
        "\n",
        "We can best illustrate how to use *format()* by looking at some examples:"
      ]
    },
    {
      "cell_type": "code",
      "metadata": {
        "id": "JRsYtZzHhSb0"
      },
      "source": [
        "# Example 1\n",
        "print(\"EG:1\")\n",
        "print(\"Mohammed has {} balloons\".format(27))\n",
        "\n",
        "# Example 2\n",
        "print(\"EG:2\")\n",
        "animal = \"dog\"\n",
        "action = \"bite\"\n",
        "print(\"Does your {} {}?\".format(animal, action))\n",
        "\n",
        "# Example 3\n",
        "print(\"EG:3\")\n",
        "maria_string = \"Maria loves {} and {}\"\n",
        "print(maria_string.format(\"math\",\"statistics\"))"
      ],
      "execution_count": null,
      "outputs": []
    },
    {
      "cell_type": "markdown",
      "metadata": {
        "id": "2CbjCbQohVJo"
      },
      "source": [
        "Notice how in each example, the number of pairs of curly braces {} you use inside the string is the same as the number of replacements you want to make using the values inside *format()*.\n",
        "\n",
        "More advanced students can learn more about the formal syntax for using the *format()* string method [here](https://docs.python.org/3.6/library/string.html#format-string-syntax)."
      ]
    },
    {
      "cell_type": "markdown",
      "metadata": {
        "id": "QnkxHb1khZ5u"
      },
      "source": [
        "<br><br>\n",
        "\n",
        "## **Lists and Membership Operators:**\n",
        "\n",
        "**Data structures** are containers that organize and group data types together in different ways. A **list** is one of the most common and basic data structures in Python. It is a mutable ordered sequence of elements.\n",
        "\n",
        "The code below defines a variable *students* which contains a list of strings. Each element in the list is a string that signifies the name of a student.\n",
        "\n",
        "> The data inside a list can be a mixture of any number and combination of diffrent data types."
      ]
    },
    {
      "cell_type": "code",
      "metadata": {
        "id": "KvaJmuJChjEy"
      },
      "source": [
        "students = ['sam', 'pam', 'rocky', 'austin', 'steve', 'banner']"
      ],
      "execution_count": null,
      "outputs": []
    },
    {
      "cell_type": "markdown",
      "metadata": {
        "id": "yJhtlV7WhkWd"
      },
      "source": [
        "List are ordered, we can look up individual elements by their index, we can look elements from a list just like we have done below."
      ]
    },
    {
      "cell_type": "code",
      "metadata": {
        "id": "ahERKfKyhnUC"
      },
      "source": [
        "print(students[0])\n",
        "print(students[1])\n",
        "print(students[2])"
      ],
      "execution_count": null,
      "outputs": []
    },
    {
      "cell_type": "markdown",
      "metadata": {
        "id": "3Gx1qI97hrD2"
      },
      "source": [
        "Notice that the first element in the list is accessed by the index 0, many programming language follow this convection called as zero based indexing.\n",
        "\n",
        "We can also access the elements from the end of the list using negative index as seen in the examples below."
      ]
    },
    {
      "cell_type": "code",
      "metadata": {
        "id": "exyQHRsDhw1g"
      },
      "source": [
        "print(students[-1])\n",
        "print(students[-2])\n",
        "print(students[-3])"
      ],
      "execution_count": null,
      "outputs": []
    },
    {
      "cell_type": "markdown",
      "metadata": {
        "id": "-XY9kxTbh2Ol"
      },
      "source": [
        "If you try to access an index in a list that doesn't exist then you will get an Error as seen below."
      ]
    },
    {
      "cell_type": "code",
      "metadata": {
        "id": "J0UvoL4Sh7Ep"
      },
      "source": [
        "print(students[20])"
      ],
      "execution_count": null,
      "outputs": []
    },
    {
      "cell_type": "markdown",
      "metadata": {
        "id": "zOGSS6sfiFhV"
      },
      "source": [
        "## **Membership Operators:[Lists]**\n",
        "\n",
        "In addition to accessing individual elements froma a list, we can use pythons sliceing notation to access a subsequence of a list.\n",
        "\n",
        "Slicing means using indicies to slice off parts of an object like list/string. Look at an example "
      ]
    },
    {
      "cell_type": "code",
      "metadata": {
        "id": "HN1aWJR4iHGV"
      },
      "source": [
        "students = ['sam', 'pam', 'rocky', 'austin', 'steve', 'banner', 'tony', 'bruce', \n",
        "            'henry', 'clark', 'diana']\n",
        "student = \"Barry\"\n",
        "\n",
        "# slice a particular range\n",
        "marvel = students[4:7]\n",
        "flash = student[1:3]\n",
        "\n",
        "print(marvel)\n",
        "print(flash)"
      ],
      "execution_count": null,
      "outputs": []
    },
    {
      "cell_type": "code",
      "metadata": {
        "id": "9xWMSpmoiOlX"
      },
      "source": [
        "# slice from the end\n",
        "dc = students[7:]\n",
        "flash = student[1:]\n",
        "\n",
        "print(dc)\n",
        "print(flash)"
      ],
      "execution_count": null,
      "outputs": []
    },
    {
      "cell_type": "code",
      "metadata": {
        "id": "42pM8jV9iQq-"
      },
      "source": [
        "# slice from the begining\n",
        "normal = students[:4]\n",
        "flash = student[:3]\n",
        "\n",
        "print(normal)\n",
        "print(flash)"
      ],
      "execution_count": null,
      "outputs": []
    },
    {
      "cell_type": "code",
      "metadata": {
        "id": "VWCHzdt2iUQR"
      },
      "source": [
        "# length of the list and the string\n",
        "print(len(students))\n",
        "print(len(student))"
      ],
      "execution_count": null,
      "outputs": []
    },
    {
      "cell_type": "markdown",
      "metadata": {
        "id": "qncsfUTUiVAq"
      },
      "source": [
        "Of the types we have seen lists are most familier to strings, both supports the *len()* function, indexing and slicing.\n",
        "\n",
        "> Here above you have seen that the length of a string is the no of characters in the string, while the length of a list is the no of elements in the list.\n",
        "\n",
        "Another thing that they both supports are membership operators:\n",
        "\n",
        "* **in:** evaluates if an object on the left side is included in the object on the right side.\n",
        "* **not in:** evaluates if object on left side is not included in object on right side."
      ]
    },
    {
      "cell_type": "code",
      "metadata": {
        "id": "jGHNNujbiaYX"
      },
      "source": [
        "greeting = \"Hello there\"\n",
        "print('her' in greeting, 'her' not in greeting)"
      ],
      "execution_count": null,
      "outputs": []
    },
    {
      "cell_type": "markdown",
      "metadata": {
        "id": "Jq53nPUpiffJ"
      },
      "source": [
        "### **Mutability and Order:**\n",
        "\n",
        "So how are Lists diffrent from Strings, both supporst slicing, indexing, in and not in operators.\n",
        "\n",
        "The most obvious diffrence between them is that string is a sequence of characters while list's elements can be any type of bojects string, integers, floats orr bools.\n",
        "\n",
        "A more important diference is that lists can be modified but string can't. Look at the example below to understand more."
      ]
    },
    {
      "cell_type": "code",
      "metadata": {
        "id": "udACTsG0ijOB"
      },
      "source": [
        "students = ['sam', 'pam', 'rocky', 'austin', 'steve', 'banner', 'tony', 'bruce', \n",
        "            'henry', 'clark', 'diana']\n",
        "\n",
        "students[2] = 'ben'\n",
        "print(students)"
      ],
      "execution_count": null,
      "outputs": []
    },
    {
      "cell_type": "code",
      "metadata": {
        "id": "ELFV-uAqikrF"
      },
      "source": [
        "student = \"Barry\"\n",
        "student[1] = \"e\"\n",
        "print(student)"
      ],
      "execution_count": null,
      "outputs": []
    },
    {
      "cell_type": "markdown",
      "metadata": {
        "id": "7zBHHRxNioAP"
      },
      "source": [
        "**Mutability** is about whether or not we can change an object once it has been created. If an object (like a list or string) can be changed (like a list can), then it is called **mutable**. However, if an object cannot be changed without creating a completely new object (like strings), then the object is considered immutable.\n",
        "\n",
        "**Order** is about whether the position of an element in the object can be used to access the element. **Both strings and lists are ordered.** We can use the order to access parts of a list and string.\n",
        "\n",
        "> However, you will see some data types in the next sections that will be unordered. For each of the upcoming data structures you see, it is useful to understand how you index, are they mutable, and are they ordered. Knowing this about the data structure is really useful!\n",
        "\n",
        "Additionally, you will see how these each have different methods, so why you would use one data structure vs. another is largely dependent on these properties, and what you can easily do with it!\n",
        "\n",
        "Previously when we created a variable that heald an immutable object like string, the value of the immutable object was saved in memory. Like as you can see below"
      ]
    },
    {
      "cell_type": "code",
      "metadata": {
        "id": "yPXHOJOliubj"
      },
      "source": [
        "student = \"pam\"\n",
        "character = student\n",
        "print(character)\n",
        "character = \"peter\"\n",
        "print(character)\n",
        "print(student)"
      ],
      "execution_count": null,
      "outputs": []
    },
    {
      "cell_type": "markdown",
      "metadata": {
        "id": "uuDUSiuliwep"
      },
      "source": [
        "Lists are diffrent from strings as they are mutable as can be seen from the example below"
      ]
    },
    {
      "cell_type": "code",
      "metadata": {
        "id": "DCm72bMXiw2y"
      },
      "source": [
        "students = ['sam', 'pam', 'rocky', 'austin', 'steve', 'banner', 'tony', 'bruce', \n",
        "            'henry', 'clark', 'diana']\n",
        "characters = students\n",
        "print(characters)\n",
        "characters[1]= \"peter\"\n",
        "print(characters)\n",
        "print(students)"
      ],
      "execution_count": null,
      "outputs": []
    },
    {
      "cell_type": "markdown",
      "metadata": {
        "id": "H0AifJIgi1PU"
      },
      "source": [
        "There are some useful functions for lists that you should get familier with.\n",
        "\n",
        "1. ***len():*** returns how many elements does the list has.\n",
        "2. ***max():*** returns the greatest element of a list.\n",
        "3. ***min():*** returns the smallest element of a list.\n",
        "4. ***sorted():*** returns a copy of the list, in order from smallest to the largest. leaving the orignal list unchanged\n",
        "\n",
        "> max element in a list of integers is the largest integer, while in the case of string is the string that will come last if the list was sorted alphabetically."
      ]
    },
    {
      "cell_type": "code",
      "metadata": {
        "id": "rNeVkjshi6A3"
      },
      "source": [
        "students = ['sam', 'pam', 'rocky', 'austin', 'steve', 'banner', 'tony', 'bruce', \n",
        "            'henry', 'clark', 'diana']\n",
        "\n",
        "student = \"barry\"\n",
        "\n",
        "print(max(students))\n",
        "print(max(student))"
      ],
      "execution_count": null,
      "outputs": []
    },
    {
      "cell_type": "markdown",
      "metadata": {
        "id": "G7qp4cFyi7u3"
      },
      "source": [
        "> a point to note is that even though you can have a list cntaining int and string a max function will be undefined upon such a list."
      ]
    },
    {
      "cell_type": "code",
      "metadata": {
        "id": "cD2FNofii9-J"
      },
      "source": [
        "max([2, 'two'])"
      ],
      "execution_count": null,
      "outputs": []
    },
    {
      "cell_type": "code",
      "metadata": {
        "id": "lj59CfRJi-dP"
      },
      "source": [
        "characters = sorted(students)\n",
        "print(characters)"
      ],
      "execution_count": null,
      "outputs": []
    },
    {
      "cell_type": "markdown",
      "metadata": {
        "id": "__cQsmjOjCOj"
      },
      "source": [
        "***Join()*** is an other useful function for lists(string lists), Join is a string method that takes a list of strings as an argument, and returns a string consisting of the list elements joined by a separator string. Look at the example below to understand.\n",
        "\n"
      ]
    },
    {
      "cell_type": "code",
      "metadata": {
        "id": "js4vJoYZjPiJ"
      },
      "source": [
        "sep_str = \"\\n\".join([\"Jack\", \"O\", \"Lantern\"])\n",
        "print(sep_str)"
      ],
      "execution_count": null,
      "outputs": []
    },
    {
      "cell_type": "markdown",
      "metadata": {
        "id": "iRx6olmPjRQG"
      },
      "source": [
        "In this example we use the string **\"\\n\"** as the separator so that there is a newline between each element.\n",
        "We can also use other strings as separators with .join. Here we use a hyphen."
      ]
    },
    {
      "cell_type": "code",
      "metadata": {
        "id": "JRtcmpLrjULE"
      },
      "source": [
        "name = \"-\".join([\"Jack\", \"O\", \"Lantern\"])\n",
        "print(name)"
      ],
      "execution_count": null,
      "outputs": []
    },
    {
      "cell_type": "markdown",
      "metadata": {
        "id": "0_wbVVV1jWKa"
      },
      "source": [
        "> It is important to remember to separate each of the items in the list you are joining with a comma (,). Forgetting to do so will not trigger an error, but will also give you unexpected results.\n",
        "\n",
        "***append()*** is an other useful method that adds an element to the end of a list."
      ]
    },
    {
      "cell_type": "code",
      "metadata": {
        "id": "I0vPFZvWjb5T"
      },
      "source": [
        "letters = ['a', 'b', 'c', 'd']\n",
        "letters.append('e')\n",
        "print(letters)"
      ],
      "execution_count": null,
      "outputs": []
    },
    {
      "cell_type": "markdown",
      "metadata": {
        "id": "j_WJDG0ojekv"
      },
      "source": [
        "<br><br>\n",
        "\n",
        "## **Tuples:**\n",
        "\n",
        "A tuple is another useful container. It's a data type for immutable ordered sequences of elements. They are often used to store related pieces of information. Consider this example involving (x, y, z) coordinates:"
      ]
    },
    {
      "cell_type": "code",
      "metadata": {
        "id": "t_ulvXiVjhW0"
      },
      "source": [
        "vector = (4, 5, 9)\n",
        "print(\"x-coordinate:\", vector[0])\n",
        "print(\"y-coordinate:\", vector[1])\n",
        "print(\"z-coordinate:\", vector[2])"
      ],
      "execution_count": null,
      "outputs": []
    },
    {
      "cell_type": "markdown",
      "metadata": {
        "id": "c1f1_otsjiKv"
      },
      "source": [
        "Tuples are similar to lists in that they store an ordered collection of objects which can be accessed by their indices. Unlike lists, however, tuples are immutable - you can't add and remove items from tuples, or sort them in place.\n",
        "\n",
        "> Tuples can also be used to assign multiple variables in a compact way.\n",
        "\n",
        "> The parentheses are optional when defining tuples, and programmers frequently omit them if parentheses don't clarify the code."
      ]
    },
    {
      "cell_type": "code",
      "metadata": {
        "id": "1jdWDntxjkiQ"
      },
      "source": [
        "location = 108.7774, 92.5556\n",
        "latitude, longtitude = location\n",
        "print(\"The coordinates are {} x {}\".format(latitude, longtitude))"
      ],
      "execution_count": null,
      "outputs": []
    },
    {
      "cell_type": "markdown",
      "metadata": {
        "id": "tLDEqL0SjofD"
      },
      "source": [
        "In the second line, two variables are assigned from the content of the tuple location. This is called tuple unpacking. You can use tuple unpacking to assign the information from a tuple into multiple variables without having to access them one by one and make multiple assignment statements.\n",
        "\n",
        "If we won't need to use location directly, we could shorten those two lines of code into a single line that assigns three variables in one go!"
      ]
    },
    {
      "cell_type": "code",
      "metadata": {
        "id": "7zhhHAuTjppC"
      },
      "source": [
        "location = 108.7774, 92.5556\n",
        "\n",
        "print(\"The coordinates are {} x {}\".format(latitude, longtitude))"
      ],
      "execution_count": null,
      "outputs": []
    },
    {
      "cell_type": "markdown",
      "metadata": {
        "id": "58rdQd8yjsQx"
      },
      "source": [
        "## **For Loops:**\n",
        "\n",
        "Python has two kinds of loops - for loops and while loops. A for loop is used to \"iterate\", or do something repeatedly, over an iterable.\n",
        "\n",
        "An iterable is an object that can return one of its elements at a time. This can include sequence types, such as strings, lists, and tuples, as well as non-sequence types, such as dictionaries and files.\n",
        "\n",
        "Example:"
      ]
    },
    {
      "cell_type": "code",
      "metadata": {
        "id": "W93Q-yJHjtZN"
      },
      "source": [
        "cities = ['new york city', 'mountain view', 'chicago', 'los angeles']\n",
        "for city in cities:\n",
        "    print(city)\n",
        "print(\"Done!\")"
      ],
      "execution_count": null,
      "outputs": []
    },
    {
      "cell_type": "markdown",
      "metadata": {
        "id": "OcvOkKJ5jvlu"
      },
      "source": [
        "### **Components of a for Loop:**\n",
        "1. The first line of the loop starts with the *for* keyword, which signals that this is a *for* loop\n",
        "2. Following that is *city in cities*, indicating *city* is the iteration variable, and *cities* is the iterable being looped over. In the first iteration of the loop, *city* gets the value of the first element in *cities*, which is “new york city”.\n",
        "3. The *for* loop heading line always ends with a colon *:*\n",
        "4. Following the *for* loop heading is an indented block of code, the body of the loop, to be executed in each iteration of this loop. There is only one line in the body of this loop - *print(city)*.\n",
        "5. After the body of the loop has executed, we don't move on to the next line yet; we go back to the for heading line, where the iteration variable takes the value of the next element of the iterable. In the second iteration of the loop above, *city* takes the value of the next element in *cities*, which is \"mountain view\".\n",
        "6. This process repeats until the loop has iterated through all the elements of the iterable. Then, we move on to the line that follows the body of the loop - in this case, *print(\"Done!\")*. We can tell what the next line after the body of the loop is because it is unindented. Here is another reason why paying attention to your indentation is very important in Python!\n",
        "\n",
        "> You can name iteration variables however you like. A common pattern is to give the iteration variable and iterable the same names, except the singular and plural versions respectively (e.g., 'city' and 'cities').\n",
        "\n",
        "\n",
        "\n",
        "## **Using the *range()* Function with for Loops:**\n",
        "*range()* is a built-in function used to create an iterable sequence of numbers. You will frequently use *range()* with a for loop to repeat an action a certain number of times, as in this example:\n",
        "\n",
        "\n"
      ]
    },
    {
      "cell_type": "code",
      "metadata": {
        "id": "9_clo4kFkBye"
      },
      "source": [
        "for i in range(3):\n",
        "    print(\"Hello!\")"
      ],
      "execution_count": null,
      "outputs": []
    },
    {
      "cell_type": "markdown",
      "metadata": {
        "id": "YiaO__BHkFVc"
      },
      "source": [
        "## **range(start=0, stop, step=1)**\n",
        "The range() function takes three integer arguments, the first and third of which are optional:\n",
        "\n",
        "- The 'start' argument is the first number of the sequence. If unspecified, 'start' defaults to 0.\n",
        "- The 'stop' argument is 1 more than the last number of the sequence. This argument must be specified.\n",
        "- The 'step' argument is the difference between each number in the sequence. If unspecified, 'step' defaults to 1.\n",
        "\n",
        "\n",
        "Notes on using range():\n",
        "\n",
        "- If you specify one integer inside the parentheses withrange(), it's used as the value for 'stop,' and the defaults are used for the other two. Example-"
      ]
    },
    {
      "cell_type": "code",
      "metadata": {
        "id": "QzvL3ZeakJC6"
      },
      "source": [
        "for i in range(2, 6):\n",
        "  print(i)"
      ],
      "execution_count": null,
      "outputs": []
    },
    {
      "cell_type": "markdown",
      "metadata": {
        "id": "Fum_wPrvkNYz"
      },
      "source": [
        "- If you specify two integers inside the parentheses withrange(), they're used for 'start' and 'stop,' and the default is used for 'step.' Example-"
      ]
    },
    {
      "cell_type": "code",
      "metadata": {
        "id": "Lv17fxdXkQKU"
      },
      "source": [
        "for i in range(2, 6):\n",
        "  print(i)"
      ],
      "execution_count": null,
      "outputs": []
    },
    {
      "cell_type": "markdown",
      "metadata": {
        "id": "suNHEewDkSh_"
      },
      "source": [
        "\n",
        "- Or you can specify all three integers for 'start', 'stop', and 'step.' Example-"
      ]
    },
    {
      "cell_type": "code",
      "metadata": {
        "id": "ARXChGtokTyJ"
      },
      "source": [
        "for i in range(1, 10, 2):\n",
        "  print(i)"
      ],
      "execution_count": null,
      "outputs": []
    },
    {
      "cell_type": "markdown",
      "metadata": {
        "id": "_Pfo111xlA7-"
      },
      "source": [
        "<br><br>\n",
        "\n",
        "# ***Sets:***\n",
        "A set is a data type for mutable unordered collections of unique elements. One application of a set is to quickly remove duplicates from a list.\n"
      ]
    },
    {
      "cell_type": "code",
      "metadata": {
        "id": "3DUGP-tYlNoR"
      },
      "source": [
        "numbers = [1, 2, 6, 3, 1, 1, 6]\n",
        "unique_nums = set(numbers)\n",
        "print(unique_nums)"
      ],
      "execution_count": null,
      "outputs": []
    },
    {
      "cell_type": "markdown",
      "metadata": {
        "id": "AyZseWUKlSWm"
      },
      "source": [
        "Sets support the in operator the same as lists do. You can add elements to sets using the add method, and remove elements using the pop method, similar to lists. Although, when you pop an element from a set, a random element is removed. Remember that sets, unlike lists, are unordered so there is no \"last element\".\n"
      ]
    },
    {
      "cell_type": "code",
      "metadata": {
        "id": "JRUT_A8ClUpO"
      },
      "source": [
        "fruit = {\"apple\", \"banana\", \"orange\", \"grapefruit\"}  # define a set\n",
        "\n",
        "print(\"watermelon\" in fruit)  # check for element\n",
        "\n",
        "fruit.add(\"watermelon\")  # add an element\n",
        "print(fruit)\n",
        "\n",
        "print(fruit.pop())  # remove a random element\n",
        "print(fruit)\n"
      ],
      "execution_count": null,
      "outputs": []
    },
    {
      "cell_type": "markdown",
      "metadata": {
        "id": "prsxhIwIlf67"
      },
      "source": [
        "# **Dictionaries and Identity Operators:**\n",
        "A dictionary is a mutable data type that stores mappings of unique keys to values. Here's a dictionary that stores elements and their atomic numbers.\n"
      ]
    },
    {
      "cell_type": "code",
      "metadata": {
        "id": "WE3DRLUClqcr"
      },
      "source": [
        "elements = {\"hydrogen\": 1, \"helium\": 2, \"carbon\": 6}"
      ],
      "execution_count": null,
      "outputs": []
    },
    {
      "cell_type": "markdown",
      "metadata": {
        "id": "7djCggqPltso"
      },
      "source": [
        "Dictionaries can have keys of any immutable type, like integers or tuples, not just strings. It's not even necessary for every key to have the same type! We can look up values or insert new values in the dictionary using square brackets that enclose the key.\n"
      ]
    },
    {
      "cell_type": "code",
      "metadata": {
        "id": "LkBO3C6XlwU9"
      },
      "source": [
        "print(elements[\"helium\"])  # print the value mapped to \"helium\"\n",
        "elements[\"lithium\"] = 3  # insert \"lithium\" with a value of 3 into the dictionary"
      ],
      "execution_count": null,
      "outputs": []
    },
    {
      "cell_type": "markdown",
      "metadata": {
        "id": "_Xj9gWdLl47A"
      },
      "source": [
        "We can check whether a value is in a dictionary the same way we check whether a value is in a list or set with the in keyword. Dicts have a related method that's also useful, get(). get() looks up values in a dictionary, but unlike square brackets, get returns None (or a default value of your choice) if the key isn't found.\n"
      ]
    },
    {
      "cell_type": "code",
      "metadata": {
        "id": "TdQM7WX5l6Je"
      },
      "source": [
        "print(\"carbon\" in elements)\n",
        "print(elements.get(\"dilithium\"))"
      ],
      "execution_count": null,
      "outputs": []
    },
    {
      "cell_type": "markdown",
      "metadata": {
        "id": "pNtx1788l9vE"
      },
      "source": [
        "Carbon is in the dictionary, so True is printed. Dilithium isn’t in our dictionary so None is returned by get and then printed. If you expect lookups to sometimes fail, get might be a better tool than normal square bracket lookups because errors can crash your program.\n",
        "<br><br>\n",
        "\n",
        "# **Keyword Operators:**\n",
        "is: evaluates if both sides have the same identity\n",
        "is not: evaluates if both sides have different identities\n",
        "You can check if a key returned None with the is operator. You can check for the opposite using is not.\n",
        "\n"
      ]
    },
    {
      "cell_type": "code",
      "metadata": {
        "id": "lU5OvRz_mOcu"
      },
      "source": [
        "n = elements.get(\"dilithium\")\n",
        "print(n is None)\n",
        "print(n is not None)"
      ],
      "execution_count": null,
      "outputs": []
    },
    {
      "cell_type": "markdown",
      "metadata": {
        "id": "ofoVqH9xmax2"
      },
      "source": [
        "# Get() with a Default Value:\n",
        "Dictionaries have a related method that's also useful, get(). get() looks up values in a dictionary, but unlike looking up values with square brackets, get() returns None (or a default value of your choice) if the key isn't found. If you expect lookups to sometimes fail, get() might be a better tool than normal square bracket lookups.\n"
      ]
    },
    {
      "cell_type": "code",
      "metadata": {
        "id": "ATz1MjdImfEu"
      },
      "source": [
        "print(population.get('London'))"
      ],
      "execution_count": null,
      "outputs": []
    },
    {
      "cell_type": "code",
      "metadata": {
        "id": "lpRrCO1Imj2m"
      },
      "source": [
        "population.get('London', 'There\\'s no such place!')"
      ],
      "execution_count": null,
      "outputs": []
    },
    {
      "cell_type": "markdown",
      "metadata": {
        "id": "PERfGbOnmoiF"
      },
      "source": [
        "In the last example we specified a default value (the string 'There's no such element!') to be returned instead of None when the key is not found.\n",
        "<br><br>\n",
        "\n",
        "# **Compound Data Structures:**\n",
        "Previously we have seen a dictonary called elements in which the element names are maped to their atomic numbers which are integers. But what if we want to store more information about each element like their atomic weight and symbol. We can do that by adjusting this dictionary so that it maps the element names to an other dictionary, that stores that collection of data.\n",
        "\n"
      ]
    },
    {
      "cell_type": "code",
      "metadata": {
        "id": "zDOlO2SAm2ql"
      },
      "source": [
        "elements = {\"hydrogen\": {\"number\": 1,\n",
        "                         \"weight\": 1.00794,\n",
        "                         \"symbol\": \"H\"},\n",
        "              \"helium\": {\"number\": 2,\n",
        "                         \"weight\": 4.002602,\n",
        "                         \"symbol\": \"He\"}}"
      ],
      "execution_count": null,
      "outputs": []
    },
    {
      "cell_type": "markdown",
      "metadata": {
        "id": "xKEwD2EUm6v_"
      },
      "source": [
        "We can look up information about an element using this nested dictionary, using square brackets or the get() method.\n"
      ]
    },
    {
      "cell_type": "code",
      "metadata": {
        "id": "oBRNTvCynCgq"
      },
      "source": [
        "helium = elements[\"helium\"]  # get the helium dictionary\n",
        "hydrogen_weight = elements[\"hydrogen\"][\"weight\"]  # get hydrogen's weight\n",
        "\n",
        "print(helium)\n",
        "print(hydrogen_weight)"
      ],
      "execution_count": null,
      "outputs": []
    },
    {
      "cell_type": "markdown",
      "metadata": {
        "id": "wFu2snH7nGwj"
      },
      "source": [
        "You can also add a new key to the element dictionary.\n"
      ]
    },
    {
      "cell_type": "code",
      "metadata": {
        "id": "7Eg84HxwnHvh"
      },
      "source": [
        "oxygen = {\"number\":8,\"weight\":15.999,\"symbol\":\"O\"}  # create a new oxygen dictionary \n",
        "elements[\"oxygen\"] = oxygen  # assign 'oxygen' as a key to the elements dictionary\n",
        "\n",
        "print('elements = ', elements)"
      ],
      "execution_count": null,
      "outputs": []
    }
  ]
}